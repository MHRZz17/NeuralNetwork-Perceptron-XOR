{
 "cells": [
  {
   "cell_type": "markdown",
   "id": "c4eb2f12-7a85-40de-a988-aacf1446ada6",
   "metadata": {},
   "source": [
    "# Solving XOR with Perceptron algorithm"
   ]
  },
  {
   "cell_type": "markdown",
   "id": "7e4eace9-ae8b-45e8-b425-644040cc2936",
   "metadata": {},
   "source": [
    "# Import Liberaries"
   ]
  },
  {
   "cell_type": "code",
   "execution_count": 28,
   "id": "71b4fff6-ef52-4b5d-a23f-34de373ecf82",
   "metadata": {},
   "outputs": [],
   "source": [
    "import numpy as np\n",
    "import matplotlib.pyplot as plt"
   ]
  },
  {
   "cell_type": "markdown",
   "id": "f0b8ec0e-7b13-4aa3-b02a-4ee01d89259c",
   "metadata": {},
   "source": [
    "# Setting Parameters"
   ]
  },
  {
   "cell_type": "code",
   "execution_count": 29,
   "id": "4cdd718a-e50d-445b-a66c-f438648c9446",
   "metadata": {},
   "outputs": [],
   "source": [
    "# x1 x2 --> y\n",
    "# 0  0  --> 0\n",
    "# 0  1  --> 1\n",
    "# 1  0  --> 1\n",
    "# 1  1  --> 0\n",
    "#---------------\n",
    "# First column = bias\n",
    "# Input Layer:\n",
    "X=np.array([[1,0,0],\n",
    "             [1,0,1],\n",
    "             [1,1,0],\n",
    "             [1,1,1],\n",
    "            ])\n",
    "\n",
    "# Output Layer:\n",
    "y=np.array([[0],[1],[1],[0]])\n",
    "\n",
    "# Init Weights:\n",
    "w1=np.random.randn(3,5)\n",
    "w2=np.random.randn(6,1)\n",
    "\n",
    "# Init learning rate\n",
    "lr=0.09\n",
    "\n",
    "costs=[]\n",
    "\n",
    "# Init epochs\n",
    "epochs=15000\n",
    "\n",
    "m=len(X)"
   ]
  },
  {
   "cell_type": "markdown",
   "id": "bbab37d5-4624-4cc8-8b9d-8415c23296d0",
   "metadata": {},
   "source": [
    "# Activation Function --> Sigmoid"
   ]
  },
  {
   "cell_type": "code",
   "execution_count": 30,
   "id": "11854701-6bd4-4679-8bc7-0b3b1e4882ff",
   "metadata": {},
   "outputs": [],
   "source": [
    "def sigmoid(x):\n",
    "    return 1/(1+np.exp(-x))    "
   ]
  },
  {
   "cell_type": "markdown",
   "id": "7d176513-87d7-4d68-a2f3-5f88ca8af930",
   "metadata": {},
   "source": [
    "# Sigmoid Derivative for backprop"
   ]
  },
  {
   "cell_type": "code",
   "execution_count": 31,
   "id": "acb296e1-be55-4dd1-8a13-c35554323226",
   "metadata": {},
   "outputs": [],
   "source": [
    "def sigmoidDeriv(x):\n",
    "    return sigmoid(x)*(1-sigmoid(x))"
   ]
  },
  {
   "cell_type": "markdown",
   "id": "e79aa5a7-e83c-46c6-b0e6-7920a1c9b0d5",
   "metadata": {},
   "source": [
    "# Forward Function"
   ]
  },
  {
   "cell_type": "code",
   "execution_count": 32,
   "id": "24c87f8a-4c5b-4290-95f3-63f054966b6a",
   "metadata": {},
   "outputs": [],
   "source": [
    "def forward(x,w1,w2,predict=False):\n",
    "    a1=np.matmul(x,w1)\n",
    "    z1=sigmoid(a1)\n",
    "\n",
    "    #creat and add bias\n",
    "    bias=np.ones((len(z1),1))\n",
    "    z1=np.concatenate((bias,z1),axis=1)\n",
    "    a2=np.matmul(z1,w2)\n",
    "    z2=sigmoid(a2)\n",
    "    if predict:\n",
    "        return z2\n",
    "    return a1,z1,a2,z2   "
   ]
  },
  {
   "cell_type": "markdown",
   "id": "80779fd5-fe5c-4953-bd01-7c58d2dd850d",
   "metadata": {},
   "source": [
    "# Backprop Function"
   ]
  },
  {
   "cell_type": "code",
   "execution_count": 33,
   "id": "94f0fce1-c5e3-48c7-9fd3-a0116cca6dfd",
   "metadata": {},
   "outputs": [],
   "source": [
    "def backprop(a2,z0,z1,z2,y):\n",
    "    delta2 =z2-y\n",
    "    Delta2=np.matmul(z1.T,delta2)\n",
    "    delta1=(delta2.dot(w2[1:,:].T))*sigmoidDeriv(a1)\n",
    "    Delta1=np.matmul(z0.T,delta1)\n",
    "    return delta2,Delta1,Delta2    "
   ]
  },
  {
   "cell_type": "markdown",
   "id": "4cfaff5e-e6c3-4583-850d-de2636f74a24",
   "metadata": {},
   "source": [
    "# Start Training"
   ]
  },
  {
   "cell_type": "code",
   "execution_count": 34,
   "id": "bbe4b4a2-db76-4f0d-8b3b-a6a85458d56c",
   "metadata": {},
   "outputs": [
    {
     "name": "stdout",
     "output_type": "stream",
     "text": [
      "Iteration:0. Error: 0.5046661463873915\n",
      "Iteration:1000. Error: 0.4646025502875355\n",
      "Iteration:2000. Error: 0.2121211932547012\n",
      "Iteration:3000. Error: 0.07949269334448986\n",
      "Iteration:4000. Error: 0.04359604996779687\n",
      "Iteration:5000. Error: 0.029014785426290837\n",
      "Iteration:6000. Error: 0.02140676482851201\n",
      "Iteration:7000. Error: 0.016812912655207925\n",
      "Iteration:8000. Error: 0.013766479172606542\n",
      "Iteration:9000. Error: 0.011610871631737985\n",
      "Iteration:10000. Error: 0.010011560981605699\n",
      "Iteration:11000. Error: 0.008781361469611365\n",
      "Iteration:12000. Error: 0.00780783424027528\n",
      "Iteration:13000. Error: 0.007019582769157595\n",
      "Iteration:14000. Error: 0.006369201606945374\n",
      "Training complete.\n"
     ]
    }
   ],
   "source": [
    "for i in range(epochs):\n",
    "    # Forward\n",
    "    a1,z1,a2,z2=forward(X,w1,w2)\n",
    "\n",
    "    #Backprop\n",
    "    delta2,Delta1,Delta2=backprop(a2,X,z1,z2,y)\n",
    "\n",
    "    w1-=lr*(1/m)*Delta1\n",
    "    w2-=lr*(1/m)*Delta2\n",
    "\n",
    "    # Add costs to list for plotting\n",
    "    c=np.mean(np.abs(delta2))\n",
    "    costs.append(c)\n",
    "\n",
    "    if i%1000 == 0:\n",
    "        print(f\"Iteration:{i}. Error: {c}\")\n",
    "print(\"Training complete.\")  "
   ]
  },
  {
   "cell_type": "markdown",
   "id": "b660e6c5-5d53-4d4c-b72b-c5db510e0ad2",
   "metadata": {},
   "source": [
    "# Make predictions"
   ]
  },
  {
   "cell_type": "code",
   "execution_count": 35,
   "id": "f385b9a5-8b45-4504-bbf7-72a3943945ed",
   "metadata": {},
   "outputs": [
    {
     "name": "stdout",
     "output_type": "stream",
     "text": [
      "Percentages: \n",
      "[[0.00405119]\n",
      " [0.99425869]\n",
      " [0.99381979]\n",
      " [0.00732344]]\n",
      "Predictions: \n",
      "[[0.]\n",
      " [1.]\n",
      " [1.]\n",
      " [0.]]\n"
     ]
    }
   ],
   "source": [
    "z3=forward(X,w1,w2,True)\n",
    "print(\"Percentages: \")\n",
    "print(z3)\n",
    "print(\"Predictions: \")\n",
    "print(np.round(z3))"
   ]
  },
  {
   "cell_type": "markdown",
   "id": "96b29c57-3ffd-4d6a-90db-11caf7c14732",
   "metadata": {},
   "source": [
    "# Plot cost"
   ]
  },
  {
   "cell_type": "code",
   "execution_count": 36,
   "id": "efa22d94-8ae6-4ac2-ab58-77270a34555b",
   "metadata": {},
   "outputs": [
    {
     "data": {
      "image/png": "[encoded data removed]",
      "text/plain": [
       "<Figure size 640x480 with 1 Axes>"
      ]
     },
     "metadata": {},
     "output_type": "display_data"
    }
   ],
   "source": [
    "plt.plot(costs)\n",
    "plt.show()"
   ]
  },
  {
   "cell_type": "code",
   "execution_count": null,
   "id": "c37c343f-d38b-45f6-b318-b891dc001de2",
   "metadata": {},
   "outputs": [],
   "source": []
  }
 ],
 "metadata": {
  "kernelspec": {
   "display_name": "Python 3 (ipykernel)",
   "language": "python",
   "name": "python3"
  },
  "language_info": {
   "codemirror_mode": {
    "name": "ipython",
    "version": 3
   },
   "file_extension": ".py",
   "mimetype": "text/x-python",
   "name": "python",
   "nbconvert_exporter": "python",
   "pygments_lexer": "ipython3",
   "version": "3.11.2"
  }
 },
 "nbformat": 4,
 "nbformat_minor": 5
}
