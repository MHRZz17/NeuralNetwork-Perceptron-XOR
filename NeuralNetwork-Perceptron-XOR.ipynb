{
 "cells": [
  {
   "cell_type": "markdown",
   "id": "d0098014-fcc8-41d3-9a09-3aec77e7289a",
   "metadata": {},
   "source": [
    "# Import Liberaries"
   ]
  },
  {
   "cell_type": "code",
   "execution_count": 1,
   "id": "8362ce87-3e23-469d-b4ed-80aff627948f",
   "metadata": {},
   "outputs": [],
   "source": [
    "import numpy as np"
   ]
  },
  {
   "cell_type": "markdown",
   "id": "06887098-32d9-4b52-83f6-089388b4ac8f",
   "metadata": {},
   "source": [
    "# Setting Parameters"
   ]
  },
  {
   "cell_type": "code",
   "execution_count": 10,
   "id": "110a7adc-8521-4007-ad44-a7be30f1c439",
   "metadata": {},
   "outputs": [],
   "source": [
    "X_train = [[0, 0], [0, 1], [1, 0], [1, 1]]\n",
    "y_train = [0, 1, 1, 0]\n",
    "\n",
    "X_test = [[0, 1], [1, 1]]"
   ]
  },
  {
   "cell_type": "code",
   "execution_count": 11,
   "id": "6fbeb861-458b-4a71-a900-6812fa27acd6",
   "metadata": {},
   "outputs": [],
   "source": [
    "def perceptron_train(X, y, learning_rate=0.1, epochs=100):\n",
    "    num_features = len(X[0])\n",
    "    weights = [0] * num_features\n",
    "    bias = 0\n",
    "    \n",
    "    for _ in range(epochs):\n",
    "        for i in range(len(X)):\n",
    "            prediction = 0\n",
    "            for j in range(num_features):\n",
    "                prediction += X[i][j] * weights[j] + bias\n",
    "            if prediction >= 0:\n",
    "                y_pred = 1\n",
    "            else:\n",
    "                y_pred = 0\n",
    "                \n",
    "            error = y[i] - y_pred\n",
    "            for j in range(num_features):\n",
    "                weights[j] += learning_rate * error * X[i][j]\n",
    "            bias += learning_rate * error\n",
    "            \n",
    "    return weights, bias"
   ]
  },
  {
   "cell_type": "code",
   "execution_count": 12,
   "id": "d38bf594-5230-479d-9d0f-4af0131fbcfb",
   "metadata": {},
   "outputs": [],
   "source": [
    "def perceptron_predict(X, weights, bias):\n",
    "    predictions = []\n",
    "    for i in range(len(X)):\n",
    "        prediction = 0\n",
    "        for j in range(len(weights)):\n",
    "            prediction += X[i][j] * weights[j] + bias\n",
    "        if prediction >= 0:\n",
    "            y_pred = 1\n",
    "        else:\n",
    "            y_pred = 0\n",
    "        predictions.append(y_pred)\n",
    "    return predictions"
   ]
  },
  {
   "cell_type": "code",
   "execution_count": 13,
   "id": "86e692f1-20ef-4964-bf02-6e18e1359d14",
   "metadata": {},
   "outputs": [
    {
     "name": "stdout",
     "output_type": "stream",
     "text": [
      "Predictions: [1, 0]\n"
     ]
    }
   ],
   "source": [
    "# Train\n",
    "weights, bias = perceptron_train(X_train, y_train)\n",
    "\n",
    "# Test\n",
    "predictions = perceptron_predict(X_test, weights, bias)\n",
    "\n",
    "# Print predictions\n",
    "print(\"Predictions:\", predictions)"
   ]
  },
  {
   "cell_type": "code",
   "execution_count": null,
   "id": "d442cd1b-340a-44b7-90d1-732e088b30d0",
   "metadata": {},
   "outputs": [],
   "source": []
  }
 ],
 "metadata": {
  "kernelspec": {
   "display_name": "Python 3 (ipykernel)",
   "language": "python",
   "name": "python3"
  },
  "language_info": {
   "codemirror_mode": {
    "name": "ipython",
    "version": 3
   },
   "file_extension": ".py",
   "mimetype": "text/x-python",
   "name": "python",
   "nbconvert_exporter": "python",
   "pygments_lexer": "ipython3",
   "version": "3.11.2"
  }
 },
 "nbformat": 4,
 "nbformat_minor": 5
}
